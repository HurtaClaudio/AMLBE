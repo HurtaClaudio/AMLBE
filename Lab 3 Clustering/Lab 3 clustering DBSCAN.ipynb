{
 "cells": [
  {
   "cell_type": "markdown",
   "metadata": {},
   "source": [
    "# Laboratorio Clustering K-means"
   ]
  },
  {
   "cell_type": "code",
   "execution_count": null,
   "metadata": {},
   "outputs": [],
   "source": [
    "import pandas as pd #panda dataframes\n",
    "import numpy as np #numpy\n",
    "\n",
    "from sklearn.preprocessing import StandardScaler #importa libreria sklearn para escalar la data\n",
    "from sklearn import metrics #importa libreria para evaluar el resultado de los clusters-silueta\n",
    "from sklearn.cluster import DBSCAN #importa algortimo de kmeans\n",
    "\n",
    "Location = r'Tabla_impago_full.xlsx'"
   ]
  },
  {
   "cell_type": "markdown",
   "metadata": {},
   "source": [
    "### Importo tabla "
   ]
  },
  {
   "cell_type": "code",
   "execution_count": null,
   "metadata": {},
   "outputs": [],
   "source": [
    "Tabla1 = pd.read_excel(Location,sheet_name=\"Tabla_B\")\n",
    "\n",
    "data = Tabla1.iloc[:,2:]\n",
    "stats1=data.describe()\n",
    "\n",
    "data=data.fillna(data.mean())\n",
    "\n",
    "data_escalada= StandardScaler().fit_transform(data)\n",
    "\n",
    "stats2=(pd.DataFrame(data=data_escalada,columns=stats1.columns)).describe()"
   ]
  },
  {
   "cell_type": "markdown",
   "metadata": {},
   "source": [
    "### Set the parameters by cross-validation"
   ]
  },
  {
   "cell_type": "code",
   "execution_count": null,
   "metadata": {},
   "outputs": [],
   "source": [
    "min_samples_range = np.arange(2,10)\n",
    "eps_range = np.arange(0.1,4,0.1)\n",
    "\n",
    "\n",
    "grid_results=[]\n",
    "\n",
    "for min_samples_i in min_samples_range:\n",
    "    for eps_i in eps_range:\n",
    "        modelo_clustering = DBSCAN(eps=eps_i,min_samples=min_samples_i).fit(data_escalada)\n",
    "        etiquetas=modelo_clustering.labels_\n",
    "        n_clusters_ = len(set(etiquetas)) - (1 if -1 in etiquetas else 0)\n",
    "        if n_clusters_<2:\n",
    "            silueta=0\n",
    "            ch=0\n",
    "        else:\n",
    "            silueta=metrics.silhouette_score(data_escalada, modelo_clustering.labels_,metric='euclidean')\n",
    "            ch=metrics.calinski_harabaz_score(data_escalada, modelo_clustering.labels_)\n",
    "        #print(eps_i,min_samples_i,silueta,ch,n_clusters_)\n",
    "        grid_results.append((min_samples_i,eps_i,silueta,ch,n_clusters_))\n",
    "        "
   ]
  },
  {
   "cell_type": "markdown",
   "metadata": {},
   "source": [
    "### Genero el DF con los resultados"
   ]
  },
  {
   "cell_type": "code",
   "execution_count": null,
   "metadata": {},
   "outputs": [],
   "source": [
    "resultados=pd.DataFrame(data=grid_results,columns=['min_samples','eps','silueta','ch','n_cluster'])\n",
    "resultados.to_excel('resultados_dbscan.xlsx')\n",
    "\n",
    "print(resultados['silueta'].max())\n",
    "\n",
    "def heat_map(x,y,z,x_name,y_name,z_name):\n",
    "    import numpy as np\n",
    "    import matplotlib.pyplot as plt\n",
    "    x=np.unique(x)\n",
    "    y= np.unique(y)   \n",
    "    z = np.array(z).reshape(len(y), len(x))\n",
    "    plt.figure(figsize=(8, 6))\n",
    "    plt.subplots_adjust(left=.2, right=0.95, bottom=0.15, top=0.95)\n",
    "    plt.imshow(z, interpolation='nearest', cmap=plt.cm.coolwarm)#\n",
    "    title=str(z_name)\n",
    "    plt.xlabel(x_name)\n",
    "    plt.ylabel(y_name)\n",
    "    plt.colorbar()\n",
    "    plt.xticks(np.arange(len(x)), x, rotation=0)\n",
    "    plt.yticks(np.arange(len(y)), y)\n",
    "   # for i in range(0,len(y)):\n",
    "   #     for j in range(0,len(x)):\n",
    "   #         plt.text(j,i, '%.3f' % z[i, j],ha=\"center\", va=\"center\")\n",
    "    plt.title(title)\n",
    "    plt.show()\n",
    "\n",
    "heat_map(resultados['min_samples'],resultados['eps'],resultados['silueta'],'min_sample','eps','silueta')"
   ]
  },
  {
   "cell_type": "markdown",
   "metadata": {},
   "source": [
    "### DBSCAN con parámetros optimizados\n",
    "\n",
    "    Ahora me gustaría generar una función que haga el clustering por mi"
   ]
  },
  {
   "cell_type": "code",
   "execution_count": null,
   "metadata": {},
   "outputs": [],
   "source": [
    "import pandas as pd #panda dataframes\n",
    "\n",
    "from sklearn.preprocessing import StandardScaler #importa libreria sklearn para escalar la data\n",
    "from sklearn import metrics\n",
    "from sklearn.cluster import DBSCAN\n",
    "\n",
    "Location = r'Tabla_impago_full.xlsx'\n",
    "Tabla1 = pd.read_excel(Location,sheet_name=\"Tabla_B\")\n",
    "\n",
    "data = Tabla1.iloc[:,2:]"
   ]
  },
  {
   "cell_type": "markdown",
   "metadata": {},
   "source": [
    "### Defino mi función que necesita dos inputs: la data donde quiero clusterizar, y el número de K"
   ]
  },
  {
   "cell_type": "code",
   "execution_count": null,
   "metadata": {},
   "outputs": [],
   "source": [
    "def clusteriza(tabla,epsilon,minsamples):\n",
    "    data=tabla\n",
    "    data=data.fillna(data.mean())\n",
    "    data_escalada= StandardScaler().fit_transform(data)\n",
    "    modelo_clustering = DBSCAN(eps=epsilon,min_samples=minsamples).fit(data_escalada)\n",
    "    etiquetas=modelo_clustering.labels_\n",
    "    n_clusters_ = len(set(etiquetas)) - (1 if -1 in etiquetas else 0)\n",
    "    \n",
    "    silueta=metrics.silhouette_score(data_escalada, modelo_clustering.labels_,metric='euclidean')\n",
    "    ch=metrics.calinski_harabaz_score(data_escalada, modelo_clustering.labels_)\n",
    "    \n",
    "    #la función me devuelve los resultados\n",
    "    return (etiquetas,silueta, ch,n_clusters_)"
   ]
  },
  {
   "cell_type": "markdown",
   "metadata": {},
   "source": [
    "### Aquí por ejemplo ejecuto la función sobre matriz data con K=??"
   ]
  },
  {
   "cell_type": "code",
   "execution_count": null,
   "metadata": {},
   "outputs": [],
   "source": [
    "etiqs,sils,CH, nclusters=clusteriza(data,3,2)"
   ]
  },
  {
   "cell_type": "code",
   "execution_count": null,
   "metadata": {},
   "outputs": [],
   "source": [
    "df_eti=pd.DataFrame(data=etiqs,columns=['cluster'])\n",
    "cdata=pd.concat([df_eti,data],axis=1)\n",
    "\n",
    "cdata"
   ]
  },
  {
   "cell_type": "markdown",
   "metadata": {},
   "source": [
    "### Creo la matriz de centroides para cada cluster, ie. la media por cluster"
   ]
  },
  {
   "cell_type": "code",
   "execution_count": null,
   "metadata": {},
   "outputs": [],
   "source": [
    "centroides1=cdata.groupby('cluster').mean()\n",
    "centroides1=centroides1.reset_index(drop=False)"
   ]
  },
  {
   "cell_type": "markdown",
   "metadata": {},
   "source": [
    "### Procedemos a graficar los centroides"
   ]
  },
  {
   "cell_type": "code",
   "execution_count": null,
   "metadata": {},
   "outputs": [],
   "source": [
    "from pandas.plotting import parallel_coordinates\n",
    "\n",
    "#no dibuje todas las columnas porque el gráfico queda muy grande"
   ]
  },
  {
   "cell_type": "markdown",
   "metadata": {},
   "source": [
    "### Dibujo sólo los centroides de la data escalada para que sea más fácil interpretar:"
   ]
  },
  {
   "cell_type": "code",
   "execution_count": null,
   "metadata": {},
   "outputs": [],
   "source": [
    "parallel_coordinates(centroides1.iloc[:,0:10], 'cluster',colormap='gist_rainbow')"
   ]
  },
  {
   "cell_type": "code",
   "execution_count": null,
   "metadata": {},
   "outputs": [],
   "source": []
  }
 ],
 "metadata": {
  "kernelspec": {
   "display_name": "Python 2",
   "language": "python",
   "name": "python2"
  },
  "language_info": {
   "codemirror_mode": {
    "name": "ipython",
    "version": 2
   },
   "file_extension": ".py",
   "mimetype": "text/x-python",
   "name": "python",
   "nbconvert_exporter": "python",
   "pygments_lexer": "ipython2",
   "version": "2.7.14"
  }
 },
 "nbformat": 4,
 "nbformat_minor": 2
}
