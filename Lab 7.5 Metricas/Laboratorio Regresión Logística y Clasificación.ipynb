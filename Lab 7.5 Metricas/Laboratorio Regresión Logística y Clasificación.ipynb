{
 "cells": [
  {
   "cell_type": "markdown",
   "metadata": {},
   "source": [
    "# Laboratorio Regresión Logística y Clasificación"
   ]
  },
  {
   "cell_type": "markdown",
   "metadata": {},
   "source": [
    "### 1. Importar la base de datos \"data_clasificacion.xlsx\""
   ]
  },
  {
   "cell_type": "code",
   "execution_count": null,
   "metadata": {},
   "outputs": [],
   "source": [
    "import pandas as pd\n",
    "\n",
    "location = r'data_clasificacion.xlsx'\n",
    "data=pd.read_excel(location)"
   ]
  },
  {
   "cell_type": "markdown",
   "metadata": {},
   "source": [
    "### 2. Estime un modelo de regresión lineal donde la variable dependiente sea el tipo de cambio\n",
    "    Utilizando el resto de las variables como explicativas, utilice el alguna métrica\n",
    "    para evaluar el ajuste de su regresión."
   ]
  },
  {
   "cell_type": "markdown",
   "metadata": {},
   "source": [
    "##### Con sklearn "
   ]
  },
  {
   "cell_type": "code",
   "execution_count": null,
   "metadata": {},
   "outputs": [],
   "source": [
    "from sklearn.linear_model import LinearRegression\n",
    "from sklearn import metrics\n",
    "\n",
    "y=data.iloc[:,0]\n",
    "X=data.iloc[:,1:]\n",
    "\n",
    "params=[]\n",
    "model=LinearRegression()\n",
    "model.fit(X,y)\n",
    "params.append(model.intercept_)\n",
    "params.append(model.coef_)\n",
    "y_est=model.predict(X)\n",
    "metrics.mean_absolute_error(y,y_est)\n",
    "metrics.r2_score(y,y_est)"
   ]
  },
  {
   "cell_type": "markdown",
   "metadata": {},
   "source": [
    "##### Con StatsModels"
   ]
  },
  {
   "cell_type": "code",
   "execution_count": null,
   "metadata": {},
   "outputs": [],
   "source": [
    "import numpy as np\n",
    "import statsmodels.formula.api as smf\n",
    "X_b=np.c_[np.ones((len(X),1)),X]\n",
    "est = smf.OLS(y,X_b).fit()\n",
    "est.summary() "
   ]
  },
  {
   "cell_type": "markdown",
   "metadata": {},
   "source": [
    "### 3. Calcule los retornos logarítmicos para toda la base\n",
    "    y agregue una columna auxiliar donde transforme el retorno del tipo de cambio a una variable binaria 0, 1 \n",
    "    dependiendo si tuvo retorno positivo o negativo"
   ]
  },
  {
   "cell_type": "code",
   "execution_count": null,
   "metadata": {},
   "outputs": [],
   "source": [
    "data_ret=np.log(data/data.shift(1)).dropna()\n",
    "data_ret['target']=np.ones((len(data_ret),1))\n",
    "\n",
    "for i in range(0,len(data_ret)):\n",
    "    if data_ret.iloc[i,0]<0:\n",
    "        data_ret.iloc[i,10]=0"
   ]
  },
  {
   "cell_type": "markdown",
   "metadata": {},
   "source": [
    "##### 3.1 Ajuste una regresión Logística a los datos y calcule:"
   ]
  },
  {
   "cell_type": "code",
   "execution_count": null,
   "metadata": {},
   "outputs": [],
   "source": [
    "X = data_ret.iloc[:,1:10].values\n",
    "y = data_ret.iloc[:,10].values\n",
    "\n",
    "from sklearn.linear_model import LogisticRegression      \n",
    "model=LogisticRegression()\n",
    "model.fit(X,y)\n",
    "\n",
    "from sklearn import metrics"
   ]
  },
  {
   "cell_type": "markdown",
   "metadata": {},
   "source": [
    "##### 3.1 Accuracy Score"
   ]
  },
  {
   "cell_type": "code",
   "execution_count": null,
   "metadata": {},
   "outputs": [],
   "source": [
    "y_pred=model.predict(X)\n",
    "acc=metrics.accuracy_score(y,y_pred)\n",
    "acc"
   ]
  },
  {
   "cell_type": "markdown",
   "metadata": {},
   "source": [
    "##### 3.2 Confusion Matrix"
   ]
  },
  {
   "cell_type": "code",
   "execution_count": null,
   "metadata": {},
   "outputs": [],
   "source": [
    "cm=metrics.confusion_matrix(y,y_pred)\n",
    "cm"
   ]
  },
  {
   "cell_type": "markdown",
   "metadata": {},
   "source": [
    "##### 3.3 Precision"
   ]
  },
  {
   "cell_type": "code",
   "execution_count": null,
   "metadata": {},
   "outputs": [],
   "source": [
    "prec=metrics.precision_score(y,y_pred)\n",
    "prec"
   ]
  },
  {
   "cell_type": "markdown",
   "metadata": {},
   "source": [
    "##### 3.4 Recall"
   ]
  },
  {
   "cell_type": "code",
   "execution_count": null,
   "metadata": {},
   "outputs": [],
   "source": [
    "recall=metrics.recall_score(y,y_pred)\n",
    "recall"
   ]
  },
  {
   "cell_type": "markdown",
   "metadata": {},
   "source": [
    "##### 3.5 F1 Score"
   ]
  },
  {
   "cell_type": "code",
   "execution_count": null,
   "metadata": {},
   "outputs": [],
   "source": [
    "f1=metrics.f1_score(y,y_pred)\n",
    "f1"
   ]
  },
  {
   "cell_type": "markdown",
   "metadata": {},
   "source": [
    "##### 3.6 ROC AUC Score"
   ]
  },
  {
   "cell_type": "code",
   "execution_count": null,
   "metadata": {},
   "outputs": [],
   "source": [
    "roc_auc=metrics.roc_auc_score(y,y_pred)\n",
    "roc_auc"
   ]
  },
  {
   "cell_type": "markdown",
   "metadata": {},
   "source": [
    "##### 3.7 Grafique la curva ROC () "
   ]
  },
  {
   "cell_type": "code",
   "execution_count": null,
   "metadata": {},
   "outputs": [],
   "source": [
    "def plot_roc_curve(fpr,tpr,label=None):\n",
    "    import matplotlib.pyplot as plt\n",
    "    plt.plot(fpr,tpr,linewidth=2,label=label)\n",
    "    plt.plot([0,1],[0,1],'k--')\n",
    "    plt.axis([0,1,0,1])\n",
    "    plt.xlabel('FPR')\n",
    "    plt.ylabel('TPR')\n",
    "    plt.title(\"ROC Curve\")\n",
    "    plt.show()\n",
    "\n",
    "y_score = model.decision_function(X)\n",
    "(fpr, tpr,thresholds)=metrics.roc_curve(y, y_score)\n",
    "plot_roc_curve(fpr,tpr)"
   ]
  },
  {
   "cell_type": "markdown",
   "metadata": {},
   "source": [
    "##### 3.8 Calcule la Probabilidad de cada clasificación \n",
    "    y compare la regla de clasificación, la clase predicha y la clase real"
   ]
  },
  {
   "cell_type": "code",
   "execution_count": null,
   "metadata": {},
   "outputs": [],
   "source": [
    "p=model.predict_proba(X) # versus y_pred versus y\n",
    "p"
   ]
  },
  {
   "cell_type": "markdown",
   "metadata": {},
   "source": [
    "##### 3.9  Realice la clasificación multiclase (8 clases) utilizando el criterio OnevsRest\n",
    "    Calcule la probabilidad predicha, su consistencia con la clasificación efectiva y la clase real"
   ]
  },
  {
   "cell_type": "code",
   "execution_count": null,
   "metadata": {},
   "outputs": [],
   "source": [
    "data_ret['target']=np.empty((len(data_ret),1))\n",
    "\n",
    "for i in range(0,len(data_ret)):\n",
    "    if (data_ret.iloc[i,0]<-0.01):\n",
    "        data_ret.iloc[i,10]=0\n",
    "    elif (data_ret.iloc[i,0]>=-0.01)&(data_ret.iloc[i,0]<-0.0075):\n",
    "        data_ret.iloc[i,10]=1\n",
    "    elif (data_ret.iloc[i,0]>=-0.0075)&(data_ret.iloc[i,0]<-0.005):\n",
    "        data_ret.iloc[i,10]=2\n",
    "    elif (data_ret.iloc[i,0]>=-0.05)&(data_ret.iloc[i,0]<-0.0025):\n",
    "        data_ret.iloc[i,10]=3\n",
    "    elif (data_ret.iloc[i,0]>=-0.0025)&(data_ret.iloc[i,0]<0.0):\n",
    "        data_ret.iloc[i,10]=4\n",
    "    elif (data_ret.iloc[i,0]>=0.0)&(data_ret.iloc[i,0]<0.0025):\n",
    "        data_ret.iloc[i,10]=5\n",
    "    elif (data_ret.iloc[i,0]>=0.0025)&(data_ret.iloc[i,0]<0.005):\n",
    "        data_ret.iloc[i,10]=6\n",
    "    elif (data_ret.iloc[i,0]>=0.005)&(data_ret.iloc[i,0]<0.01):\n",
    "        data_ret.iloc[i,10]=7\n",
    "    elif (data_ret.iloc[i,0]>=0.01):    \n",
    "        data_ret.iloc[i,10]=8\n",
    "\n",
    "X = data_ret.iloc[:,1:10].values\n",
    "y = data_ret.iloc[:,10].values\n",
    "        \n",
    "from sklearn import metrics\n",
    "from sklearn.multiclass import OneVsRestClassifier\n",
    "from sklearn.linear_model import LogisticRegression\n",
    "\n",
    "model = OneVsRestClassifier(LogisticRegression())\n",
    "model.fit(X,y)      \n",
    "\n",
    "p=model.predict_proba(X)\n",
    "y_pred=model.predict(X)\n",
    "        \n",
    "# Se debe comparar p con y_pred e y\n",
    "\n",
    "     \n",
    "\n",
    " "
   ]
  }
 ],
 "metadata": {
  "kernelspec": {
   "display_name": "Python 2",
   "language": "python",
   "name": "python2"
  },
  "language_info": {
   "codemirror_mode": {
    "name": "ipython",
    "version": 2
   },
   "file_extension": ".py",
   "mimetype": "text/x-python",
   "name": "python",
   "nbconvert_exporter": "python",
   "pygments_lexer": "ipython2",
   "version": "2.7.14"
  }
 },
 "nbformat": 4,
 "nbformat_minor": 2
}
