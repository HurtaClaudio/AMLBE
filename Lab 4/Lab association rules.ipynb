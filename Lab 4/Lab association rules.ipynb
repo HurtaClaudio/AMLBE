{
 "cells": [
  {
   "cell_type": "markdown",
   "metadata": {},
   "source": [
    "# Lab association rules"
   ]
  },
  {
   "cell_type": "code",
   "execution_count": null,
   "metadata": {},
   "outputs": [],
   "source": [
    "import pandas as pd #carga librerias\n",
    "from mlxtend.frequent_patterns import apriori #carga libreria de patrones frecuentes apriori\n",
    "from mlxtend.frequent_patterns import association_rules #carga libreria reglas de asociación\n",
    "\n",
    "pd.set_option('display.max_rows', 20)"
   ]
  },
  {
   "cell_type": "markdown",
   "metadata": {},
   "source": [
    "### Defino y leo archivo en formato tabular"
   ]
  },
  {
   "cell_type": "code",
   "execution_count": null,
   "metadata": {},
   "outputs": [],
   "source": [
    "Location = r'Baskets_Tabular.csv'\n",
    "df = pd.read_csv(Location)\n",
    "\n",
    "df"
   ]
  },
  {
   "cell_type": "markdown",
   "metadata": {},
   "source": [
    "### Comienzo pre-proceso de datos, la idea es llevar toda la data a formato columnas \"dummy\" 1 o 0\n",
    "\n",
    "    Reemplazo T y F por 1 o 0 para columnas con las categorias"
   ]
  },
  {
   "cell_type": "code",
   "execution_count": null,
   "metadata": {},
   "outputs": [],
   "source": [
    "df.iloc[:,7:18]=df.iloc[:,7:18].replace([\"T\",\"F\"],[1,0])\n",
    "\n",
    "df"
   ]
  },
  {
   "cell_type": "markdown",
   "metadata": {},
   "source": [
    "### Creo intervalos o categorías para las variables numéricas o continuas\n",
    "    Estoy creando tres intervalos, cada intervalo contendrá la misma cantidad de datos\n",
    "    Uso comando qcut (quantile cut)"
   ]
  },
  {
   "cell_type": "code",
   "execution_count": null,
   "metadata": {},
   "outputs": [],
   "source": [
    "df['age_rango']=pd.qcut(df['age'],3)\n",
    "df['age_cat']=pd.qcut(df['age'],3,labels=[\"baja\",\"media\",\"alta\"])\n",
    "\n",
    "df['value_rango']=pd.qcut(df['value'],3)\n",
    "df['value_cat']=pd.qcut(df['value'],3,labels=[\"bajo\",\"medio\",\"alto\"])\n",
    "    \n",
    "df['income_rango']=pd.qcut(df['income'],3)\n",
    "df['income_cat']=pd.qcut(df['income'],3,labels=[\"bajo\",\"medio\",\"alto\"])\n",
    "\n",
    "df"
   ]
  },
  {
   "cell_type": "markdown",
   "metadata": {},
   "source": [
    "### Para las variables que ya son categóricas, las transformo a dummies\n",
    "    Uso comando get.dummies"
   ]
  },
  {
   "cell_type": "code",
   "execution_count": null,
   "metadata": {},
   "outputs": [],
   "source": [
    "df_dummies=pd.get_dummies(df[['sex','homeown','age_cat','value_cat','income_cat','pmethod']])\n",
    "\n",
    "df"
   ]
  },
  {
   "cell_type": "markdown",
   "metadata": {},
   "source": [
    "### Ahora que ya está preprocesado, sólo me falta concatenar las columnas pre procesadas"
   ]
  },
  {
   "cell_type": "code",
   "execution_count": null,
   "metadata": {},
   "outputs": [],
   "source": [
    "basket_sets=pd.concat([df.iloc[:,7:18],df_dummies],axis=1)\n",
    "\n",
    "basket_sets"
   ]
  },
  {
   "cell_type": "markdown",
   "metadata": {},
   "source": [
    "### Basket_sets es la data lista para ser analizada\n",
    "    Tomaré una muestra para crear reglas"
   ]
  },
  {
   "cell_type": "code",
   "execution_count": null,
   "metadata": {},
   "outputs": [],
   "source": [
    "basket_sets1=basket_sets.iloc[0:995,:]\n",
    "basket_sets2=basket_sets.iloc[995:,:]\n",
    "\n",
    "basket_sets1\n",
    "basket_sets2"
   ]
  },
  {
   "cell_type": "markdown",
   "metadata": {},
   "source": [
    "### Calculo la frecuencia (soporte) de cada ítem por separado y en conjunto con los otros, dado un soporte mínimo deseado"
   ]
  },
  {
   "cell_type": "code",
   "execution_count": null,
   "metadata": {},
   "outputs": [],
   "source": [
    "frequent_itemsets = apriori(basket_sets1, min_support=0.07, use_colnames=True)\n",
    "\n",
    "frequent_itemsets"
   ]
  },
  {
   "cell_type": "markdown",
   "metadata": {},
   "source": [
    "### Una vez creada la matriz de ítems frecuentes, puedo crear las reglas de asociación\n",
    "    También puedo filtar para un mínimo deseado, en este caso, métrica lift mínimo 2"
   ]
  },
  {
   "cell_type": "code",
   "execution_count": null,
   "metadata": {},
   "outputs": [],
   "source": [
    "rules = association_rules(frequent_itemsets, metric=\"lift\", min_threshold=2)\n",
    "\n",
    "rules"
   ]
  },
  {
   "cell_type": "markdown",
   "metadata": {},
   "source": [
    "### Ordeno por lift de manera descendente"
   ]
  },
  {
   "cell_type": "code",
   "execution_count": null,
   "metadata": {},
   "outputs": [],
   "source": [
    "rules=rules.sort_values(by='lift',ascending=False)\n",
    "\n",
    "rules"
   ]
  },
  {
   "cell_type": "markdown",
   "metadata": {},
   "source": [
    "### Calculo largo antecedentes de regla"
   ]
  },
  {
   "cell_type": "code",
   "execution_count": null,
   "metadata": {},
   "outputs": [],
   "source": [
    "rules[\"antecedant_len\"] = rules[\"antecedants\"].apply(lambda x: len(x))\n",
    "\n",
    "rules"
   ]
  },
  {
   "cell_type": "markdown",
   "metadata": {},
   "source": [
    "### Calculo largo consecuentes de regla"
   ]
  },
  {
   "cell_type": "code",
   "execution_count": null,
   "metadata": {},
   "outputs": [],
   "source": [
    "rules[\"consequents_len\"] = rules[\"consequents\"].apply(lambda x: len(x))\n",
    "\n",
    "rules"
   ]
  },
  {
   "cell_type": "markdown",
   "metadata": {},
   "source": [
    "### Calculo largo consecuentes de regla"
   ]
  },
  {
   "cell_type": "code",
   "execution_count": null,
   "metadata": {},
   "outputs": [],
   "source": [
    "rules[\"rule_lenght\"] = rules[\"consequents_len\"]+rules[\"antecedant_len\"]\n",
    "\n",
    "rules"
   ]
  },
  {
   "cell_type": "markdown",
   "metadata": {},
   "source": [
    "### Aplico algunos filtros de ejemplo"
   ]
  },
  {
   "cell_type": "markdown",
   "metadata": {},
   "source": [
    "    Regla tiene que tener más de 2 antecedentes, confianza mayor a 75% y lift> 2.2"
   ]
  },
  {
   "cell_type": "code",
   "execution_count": null,
   "metadata": {},
   "outputs": [],
   "source": [
    "rules_filtro1=rules[\n",
    "        (rules['antecedant_len'] >= 2) &\n",
    "        (rules['confidence'] > 0.75) &\n",
    "        (rules['lift'] > 2.2)]\n",
    "\n",
    "rules_filtro1"
   ]
  },
  {
   "cell_type": "markdown",
   "metadata": {},
   "source": [
    "    Regla tiene que tener como consecuente una cerveza, confianza mayor a 10%, lift> 2.2 y un sólo ítem en el consecuente (cerveza)"
   ]
  },
  {
   "cell_type": "code",
   "execution_count": null,
   "metadata": {},
   "outputs": [],
   "source": [
    "rules_filtro2=rules[\n",
    "        (rules['consequents'].astype('str').str.count('beer') ==1) &\n",
    "        (rules['confidence'] > 0.1) &\n",
    "        (rules['lift'] > 2.2) &\n",
    "        (rules[\"consequents_len\"] ==1)]\n",
    "\n",
    "rules_filtro2"
   ]
  },
  {
   "cell_type": "markdown",
   "metadata": {},
   "source": [
    "### Genero un mini sistema recomendador\n",
    "    Para canasta en la muestra basket2"
   ]
  },
  {
   "cell_type": "code",
   "execution_count": null,
   "metadata": {},
   "outputs": [],
   "source": [
    "for (i, row) in basket_sets2.iterrows():\n",
    "    canasta=set()    \n",
    "    a=row.index\n",
    "    colu=0\n",
    "    for col in row:\n",
    "        if col==1:\n",
    "            canasta.add(a[colu])\n",
    "        colu=colu+1\n",
    "    \n",
    "    ## chequeo que antecedentes cumple, recomiendo el consecuente\n",
    "    regla=0\n",
    "    for rul in rules.iterrows():\n",
    "        ant=rules['antecedants'].iloc[regla]\n",
    "        cons=rules['consequents'].iloc[regla]\n",
    "        conf=rules['confidence'].iloc[regla]\n",
    "        recom=canasta.issuperset(ant) #s.issuperset(t)\ts >= t\ttest whether every element in t is in s\n",
    "        regla=regla+1\n",
    "        if recom==True: print(i,ant,\"->\",cons,conf)\n",
    "        "
   ]
  }
 ],
 "metadata": {
  "kernelspec": {
   "display_name": "Python 2",
   "language": "python",
   "name": "python2"
  },
  "language_info": {
   "codemirror_mode": {
    "name": "ipython",
    "version": 2
   },
   "file_extension": ".py",
   "mimetype": "text/x-python",
   "name": "python",
   "nbconvert_exporter": "python",
   "pygments_lexer": "ipython2",
   "version": "2.7.14"
  }
 },
 "nbformat": 4,
 "nbformat_minor": 2
}
