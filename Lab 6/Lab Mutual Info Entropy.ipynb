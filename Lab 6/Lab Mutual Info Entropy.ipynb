{
 "cells": [
  {
   "cell_type": "markdown",
   "metadata": {},
   "source": [
    "# Lab Mutual Info Entropy"
   ]
  },
  {
   "cell_type": "code",
   "execution_count": null,
   "metadata": {},
   "outputs": [],
   "source": [
    "import pandas as pd #panda dataframes\n",
    "import numpy as np #numpy\n",
    "pd.set_option('display.max_rows', 20)\n",
    "\n",
    "Location = r'data_simulada.xlsx'\n",
    "\n",
    "data = pd.read_excel(Location)"
   ]
  },
  {
   "cell_type": "code",
   "execution_count": null,
   "metadata": {},
   "outputs": [],
   "source": [
    "from pandas.plotting import scatter_matrix\n",
    "\n",
    "scatter_matrix(data, alpha=0.4, figsize=(6, 6), diagonal='hist')\n",
    "\n",
    "correls=data.corr('pearson')\n",
    "correls"
   ]
  },
  {
   "cell_type": "code",
   "execution_count": null,
   "metadata": {},
   "outputs": [],
   "source": [
    "from sklearn.metrics import mutual_info_score\n",
    "\n",
    "bins=10\n",
    "\n",
    "x=data['X_rand']\n",
    "y=data['Y_X_no_lineal']\n",
    "\n",
    "c_xy = np.histogram2d(x, y, bins)[0]\n",
    "mi = mutual_info_score(None, None, contingency=c_xy)/np.log(2)\n",
    "\n",
    "mi_matrix=np.zeros(correls.shape)\n",
    "mi_matrix"
   ]
  },
  {
   "cell_type": "code",
   "execution_count": null,
   "metadata": {},
   "outputs": [],
   "source": [
    "for i, column1 in enumerate(data):\n",
    "    for j, column2 in enumerate(data):\n",
    "        x=data[column1]\n",
    "        y=data[column2]\n",
    "        c_xy = np.histogram2d(x, y, bins)[0]\n",
    "        mi=mutual_info_score(None, None, contingency=c_xy)/np.log(2)\n",
    "        mi_matrix[i][j]=mi\n",
    "       "
   ]
  },
  {
   "cell_type": "code",
   "execution_count": null,
   "metadata": {},
   "outputs": [],
   "source": [
    "mi_matrix=pd.DataFrame(data=mi_matrix,columns=correls.columns.values, index=correls.index.values)\n",
    "mi_matrix_norm=mi_matrix/mi_matrix.max()        \n",
    "mi_matrix_norm"
   ]
  },
  {
   "cell_type": "code",
   "execution_count": null,
   "metadata": {},
   "outputs": [],
   "source": [
    "def Entropy(x,bins=0):\n",
    "    import pandas as pd\n",
    "    import numpy as np\n",
    "\n",
    "    df=pd.DataFrame(data=x)\n",
    "    \n",
    "      \n",
    "    if bins>0:\n",
    "        df['rangos']=pd.cut(df.iloc[:,0],bins)\n",
    "        count=df['rangos'].value_counts(sort=True)\n",
    "        probs=count/count.sum()\n",
    "        logs=np.log2(probs)\n",
    "        entropy=-probs*logs\n",
    "        entropy=entropy.sum()\n",
    "           \n",
    "    else:\n",
    "        count=df.iloc[:,0].value_counts(sort=True)\n",
    "        probs=count/count.sum()\n",
    "        logs=np.log2(probs)\n",
    "        entropy=-probs*logs\n",
    "        entropy=entropy.sum()\n",
    "    \n",
    "    return(entropy)"
   ]
  },
  {
   "cell_type": "code",
   "execution_count": null,
   "metadata": {},
   "outputs": [],
   "source": [
    "Entropy(x,bins=10)"
   ]
  }
 ],
 "metadata": {
  "kernelspec": {
   "display_name": "Python 2",
   "language": "python",
   "name": "python2"
  },
  "language_info": {
   "codemirror_mode": {
    "name": "ipython",
    "version": 2
   },
   "file_extension": ".py",
   "mimetype": "text/x-python",
   "name": "python",
   "nbconvert_exporter": "python",
   "pygments_lexer": "ipython2",
   "version": "2.7.14"
  }
 },
 "nbformat": 4,
 "nbformat_minor": 2
}
