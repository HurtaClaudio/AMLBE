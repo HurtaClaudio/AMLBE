{
 "cells": [
  {
   "cell_type": "markdown",
   "metadata": {},
   "source": [
    "# Lab Mutual Info Entropy 2"
   ]
  },
  {
   "cell_type": "code",
   "execution_count": null,
   "metadata": {},
   "outputs": [],
   "source": [
    "import pandas as pd #panda dataframes\n",
    "import numpy as np #numpy\n",
    "import scipy.stats as sci\n",
    "pd.set_option('display.max_rows', 20)\n",
    "\n",
    "\n",
    "Location = r'buy_computer.xlsx'\n",
    "\n",
    "data = pd.read_excel(Location)\n",
    "data=data.astype('str')\n",
    "data"
   ]
  },
  {
   "cell_type": "code",
   "execution_count": null,
   "metadata": {},
   "outputs": [],
   "source": [
    "x=data['class:buy_computer']\n",
    "y=data['student']\n",
    "\n",
    "cross_tab=pd.crosstab(x,y)\n",
    "cross_tab"
   ]
  },
  {
   "cell_type": "code",
   "execution_count": null,
   "metadata": {},
   "outputs": [],
   "source": [
    "c, p, dof, expected =sci.chi2_contingency(cross_tab)\n",
    "print c\n",
    "print p\n",
    "print dof\n",
    "print expected"
   ]
  },
  {
   "cell_type": "code",
   "execution_count": null,
   "metadata": {},
   "outputs": [],
   "source": [
    "from sklearn.metrics import mutual_info_score\n",
    "\n",
    "mi = mutual_info_score(None, None, contingency=cross_tab)/np.log(2)\n",
    "\n",
    "fils,cols=data.shape\n",
    "print fils\n",
    "print cols"
   ]
  },
  {
   "cell_type": "code",
   "execution_count": null,
   "metadata": {},
   "outputs": [],
   "source": [
    "mi_matrix=np.zeros(shape=(cols,cols))\n",
    "chi2_p_values_matrix=np.ones(shape=(cols,cols))\n",
    "\n",
    "for i, column1 in enumerate(data):\n",
    "    for j, column2 in enumerate(data):\n",
    "        x=data[column1]\n",
    "        y=data[column2]\n",
    "        mi=mutual_info_score(None, None, contingency=cross_tab)\n",
    "        mi_matrix[i][j]=mi\n",
    "                \n",
    "        if i!=j:\n",
    "            cross_tab=pd.crosstab(x,y)\n",
    "            c, p, dof, expected =sci.chi2_contingency(cross_tab)\n",
    "            chi2_p_values_matrix[i][j]=p\n",
    "            \n",
    "\n",
    "chi2_p_values_matrix=pd.DataFrame(data=chi2_p_values_matrix,columns=data.columns.values, index=data.columns.values)\n",
    "chi2_p_values_matrix"
   ]
  },
  {
   "cell_type": "code",
   "execution_count": null,
   "metadata": {},
   "outputs": [],
   "source": [
    "mi_matrix=pd.DataFrame(data=mi_matrix,columns=data.columns.values, index=data.columns.values)\n",
    "mi_matrix_norm=mi_matrix/mi_matrix.max()\n",
    "mi_matrix_norm"
   ]
  },
  {
   "cell_type": "code",
   "execution_count": null,
   "metadata": {},
   "outputs": [],
   "source": [
    "def Entropy(x,bins=0):\n",
    "    import pandas as pd\n",
    "    import numpy as np\n",
    "\n",
    "    df=pd.DataFrame(data=x)\n",
    "    \n",
    "      \n",
    "    if bins>0:\n",
    "        df['rangos']=pd.cut(df.iloc[:,0],bins)\n",
    "        count=df['rangos'].value_counts(sort=True)\n",
    "        probs=count/count.sum()\n",
    "        logs=np.log2(probs)\n",
    "        entropy=-probs*logs\n",
    "        entropy=entropy.sum()\n",
    "           \n",
    "    else:\n",
    "        count=df.iloc[:,0].value_counts(sort=True)\n",
    "        probs=count/count.sum()\n",
    "        logs=np.log2(probs)\n",
    "        entropy=-probs*logs\n",
    "        entropy=entropy.sum()\n",
    "    \n",
    "    return(entropy)"
   ]
  },
  {
   "cell_type": "code",
   "execution_count": null,
   "metadata": {},
   "outputs": [],
   "source": [
    "Entropy(x)"
   ]
  },
  {
   "cell_type": "code",
   "execution_count": null,
   "metadata": {},
   "outputs": [],
   "source": []
  }
 ],
 "metadata": {
  "kernelspec": {
   "display_name": "Python 2",
   "language": "python",
   "name": "python2"
  },
  "language_info": {
   "codemirror_mode": {
    "name": "ipython",
    "version": 2
   },
   "file_extension": ".py",
   "mimetype": "text/x-python",
   "name": "python",
   "nbconvert_exporter": "python",
   "pygments_lexer": "ipython2",
   "version": "2.7.14"
  }
 },
 "nbformat": 4,
 "nbformat_minor": 2
}
